{
 "cells": [
  {
   "cell_type": "markdown",
   "metadata": {},
   "source": [
    "# Mobile Data Speeds\n",
    "### (Croud Sourced Data provided by Govt. of India)\n",
    "<a href = \"\">"
   ]
  },
  {
   "cell_type": "code",
   "execution_count": 1,
   "metadata": {},
   "outputs": [],
   "source": [
    "import pandas as pd\n",
    "import numpy as np\n",
    "%matplotlib inline"
   ]
  },
  {
   "cell_type": "code",
   "execution_count": 2,
   "metadata": {},
   "outputs": [
    {
     "data": {
      "text/html": [
       "<div>\n",
       "<style scoped>\n",
       "    .dataframe tbody tr th:only-of-type {\n",
       "        vertical-align: middle;\n",
       "    }\n",
       "\n",
       "    .dataframe tbody tr th {\n",
       "        vertical-align: top;\n",
       "    }\n",
       "\n",
       "    .dataframe thead th {\n",
       "        text-align: right;\n",
       "    }\n",
       "</style>\n",
       "<table border=\"1\" class=\"dataframe\">\n",
       "  <thead>\n",
       "    <tr style=\"text-align: right;\">\n",
       "      <th></th>\n",
       "      <th>Service Provider</th>\n",
       "      <th>Technology</th>\n",
       "      <th>Test_type</th>\n",
       "      <th>Data Speed(Mbps)</th>\n",
       "      <th>Signal_strength</th>\n",
       "      <th>LSA</th>\n",
       "    </tr>\n",
       "  </thead>\n",
       "  <tbody>\n",
       "    <tr>\n",
       "      <th>0</th>\n",
       "      <td>JIO</td>\n",
       "      <td>4G</td>\n",
       "      <td>Upload</td>\n",
       "      <td>7.30</td>\n",
       "      <td>-63</td>\n",
       "      <td>Andhra Pradesh</td>\n",
       "    </tr>\n",
       "    <tr>\n",
       "      <th>1</th>\n",
       "      <td>JIO</td>\n",
       "      <td>4G</td>\n",
       "      <td>Upload</td>\n",
       "      <td>7.31</td>\n",
       "      <td>-65</td>\n",
       "      <td>Andhra Pradesh</td>\n",
       "    </tr>\n",
       "    <tr>\n",
       "      <th>2</th>\n",
       "      <td>JIO</td>\n",
       "      <td>4G</td>\n",
       "      <td>Upload</td>\n",
       "      <td>6.91</td>\n",
       "      <td>-65</td>\n",
       "      <td>Andhra Pradesh</td>\n",
       "    </tr>\n",
       "    <tr>\n",
       "      <th>3</th>\n",
       "      <td>VODAFONE</td>\n",
       "      <td>4G</td>\n",
       "      <td>Download</td>\n",
       "      <td>7.73</td>\n",
       "      <td>-90</td>\n",
       "      <td>Maharashtra</td>\n",
       "    </tr>\n",
       "    <tr>\n",
       "      <th>4</th>\n",
       "      <td>VODAFONE</td>\n",
       "      <td>4G</td>\n",
       "      <td>Download</td>\n",
       "      <td>6.92</td>\n",
       "      <td>-90</td>\n",
       "      <td>Maharashtra</td>\n",
       "    </tr>\n",
       "  </tbody>\n",
       "</table>\n",
       "</div>"
      ],
      "text/plain": [
       "  Service Provider Technology Test_type  Data Speed(Mbps) Signal_strength  \\\n",
       "0              JIO         4G    Upload              7.30             -63   \n",
       "1              JIO         4G    Upload              7.31             -65   \n",
       "2              JIO         4G    Upload              6.91             -65   \n",
       "3         VODAFONE         4G  Download              7.73             -90   \n",
       "4         VODAFONE         4G  Download              6.92             -90   \n",
       "\n",
       "              LSA  \n",
       "0  Andhra Pradesh  \n",
       "1  Andhra Pradesh  \n",
       "2  Andhra Pradesh  \n",
       "3     Maharashtra  \n",
       "4     Maharashtra  "
      ]
     },
     "execution_count": 2,
     "metadata": {},
     "output_type": "execute_result"
    }
   ],
   "source": [
    "df = pd.read_csv(\"march18_myspeed.csv\")\n",
    "df.head()"
   ]
  },
  {
   "cell_type": "code",
   "execution_count": 3,
   "metadata": {},
   "outputs": [
    {
     "name": "stdout",
     "output_type": "stream",
     "text": [
      "<class 'pandas.core.frame.DataFrame'>\n",
      "RangeIndex: 1322972 entries, 0 to 1322971\n",
      "Data columns (total 6 columns):\n",
      "Service Provider    1322972 non-null object\n",
      "Technology          1322972 non-null object\n",
      "Test_type           1322972 non-null object\n",
      "Data Speed(Mbps)    1322972 non-null float64\n",
      "Signal_strength     1322972 non-null object\n",
      "LSA                 1322972 non-null object\n",
      "dtypes: float64(1), object(5)\n",
      "memory usage: 60.6+ MB\n"
     ]
    }
   ],
   "source": [
    "df.info()"
   ]
  },
  {
   "cell_type": "code",
   "execution_count": 4,
   "metadata": {},
   "outputs": [],
   "source": [
    "df.columns = ['isps', 'technology', 'test_type', 'data_speed_mbps', 'signal_strength', 'LSA']"
   ]
  },
  {
   "cell_type": "markdown",
   "metadata": {},
   "source": [
    "The `na` values in the dataset were in the form of string 'na'. So there was a need of converting them to `numpy.nan`"
   ]
  },
  {
   "cell_type": "code",
   "execution_count": 5,
   "metadata": {},
   "outputs": [
    {
     "name": "stdout",
     "output_type": "stream",
     "text": [
      "<class 'pandas.core.frame.DataFrame'>\n",
      "RangeIndex: 1322972 entries, 0 to 1322971\n",
      "Data columns (total 6 columns):\n",
      "isps               1322972 non-null object\n",
      "technology         1322972 non-null object\n",
      "test_type          1322972 non-null object\n",
      "data_speed_mbps    1322972 non-null float64\n",
      "signal_strength    1322972 non-null float64\n",
      "LSA                1322972 non-null object\n",
      "dtypes: float64(2), object(4)\n",
      "memory usage: 60.6+ MB\n"
     ]
    }
   ],
   "source": [
    "df = df.replace('na', np.nan)\n",
    "df.signal_strength = pd.to_numeric(df.signal_strength)\n",
    "df.signal_strength = np.around(df.signal_strength.fillna(df.signal_strength.median()))\n",
    "df.info()"
   ]
  },
  {
   "cell_type": "code",
   "execution_count": 6,
   "metadata": {},
   "outputs": [
    {
     "data": {
      "text/html": [
       "<div>\n",
       "<style scoped>\n",
       "    .dataframe tbody tr th:only-of-type {\n",
       "        vertical-align: middle;\n",
       "    }\n",
       "\n",
       "    .dataframe tbody tr th {\n",
       "        vertical-align: top;\n",
       "    }\n",
       "\n",
       "    .dataframe thead th {\n",
       "        text-align: right;\n",
       "    }\n",
       "</style>\n",
       "<table border=\"1\" class=\"dataframe\">\n",
       "  <thead>\n",
       "    <tr style=\"text-align: right;\">\n",
       "      <th></th>\n",
       "      <th>isps</th>\n",
       "      <th>technology</th>\n",
       "      <th>test_type</th>\n",
       "      <th>data_speed_mbps</th>\n",
       "      <th>signal_strength</th>\n",
       "      <th>LSA</th>\n",
       "    </tr>\n",
       "  </thead>\n",
       "  <tbody>\n",
       "    <tr>\n",
       "      <th>0</th>\n",
       "      <td>JIO</td>\n",
       "      <td>4G</td>\n",
       "      <td>Upload</td>\n",
       "      <td>7.30</td>\n",
       "      <td>-63.0</td>\n",
       "      <td>Andhra Pradesh</td>\n",
       "    </tr>\n",
       "    <tr>\n",
       "      <th>1</th>\n",
       "      <td>JIO</td>\n",
       "      <td>4G</td>\n",
       "      <td>Upload</td>\n",
       "      <td>7.31</td>\n",
       "      <td>-65.0</td>\n",
       "      <td>Andhra Pradesh</td>\n",
       "    </tr>\n",
       "    <tr>\n",
       "      <th>2</th>\n",
       "      <td>JIO</td>\n",
       "      <td>4G</td>\n",
       "      <td>Upload</td>\n",
       "      <td>6.91</td>\n",
       "      <td>-65.0</td>\n",
       "      <td>Andhra Pradesh</td>\n",
       "    </tr>\n",
       "    <tr>\n",
       "      <th>3</th>\n",
       "      <td>VODAFONE</td>\n",
       "      <td>4G</td>\n",
       "      <td>Download</td>\n",
       "      <td>7.73</td>\n",
       "      <td>-90.0</td>\n",
       "      <td>Maharashtra</td>\n",
       "    </tr>\n",
       "    <tr>\n",
       "      <th>4</th>\n",
       "      <td>VODAFONE</td>\n",
       "      <td>4G</td>\n",
       "      <td>Download</td>\n",
       "      <td>6.92</td>\n",
       "      <td>-90.0</td>\n",
       "      <td>Maharashtra</td>\n",
       "    </tr>\n",
       "  </tbody>\n",
       "</table>\n",
       "</div>"
      ],
      "text/plain": [
       "       isps technology test_type  data_speed_mbps  signal_strength  \\\n",
       "0       JIO         4G    Upload             7.30            -63.0   \n",
       "1       JIO         4G    Upload             7.31            -65.0   \n",
       "2       JIO         4G    Upload             6.91            -65.0   \n",
       "3  VODAFONE         4G  Download             7.73            -90.0   \n",
       "4  VODAFONE         4G  Download             6.92            -90.0   \n",
       "\n",
       "              LSA  \n",
       "0  Andhra Pradesh  \n",
       "1  Andhra Pradesh  \n",
       "2  Andhra Pradesh  \n",
       "3     Maharashtra  \n",
       "4     Maharashtra  "
      ]
     },
     "execution_count": 6,
     "metadata": {},
     "output_type": "execute_result"
    }
   ],
   "source": [
    "df.head()"
   ]
  },
  {
   "cell_type": "code",
   "execution_count": 7,
   "metadata": {},
   "outputs": [],
   "source": [
    "df.to_csv(\"clean_speed_data.csv\",index=False)"
   ]
  }
 ],
 "metadata": {
  "kernelspec": {
   "display_name": "Python 3",
   "language": "python",
   "name": "python3"
  },
  "language_info": {
   "codemirror_mode": {
    "name": "ipython",
    "version": 3
   },
   "file_extension": ".py",
   "mimetype": "text/x-python",
   "name": "python",
   "nbconvert_exporter": "python",
   "pygments_lexer": "ipython3",
   "version": "3.5.2"
  }
 },
 "nbformat": 4,
 "nbformat_minor": 2
}
