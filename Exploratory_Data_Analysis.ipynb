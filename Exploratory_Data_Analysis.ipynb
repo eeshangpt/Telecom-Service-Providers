{
 "cells": [
  {
   "cell_type": "markdown",
   "metadata": {},
   "source": [
    "# Exploratory Data Analysis\n",
    "### NOTE : The data used here is cleaned."
   ]
  },
  {
   "cell_type": "code",
   "execution_count": 1,
   "metadata": {},
   "outputs": [],
   "source": [
    "import pandas as pd\n",
    "import numpy as np\n",
    "import seaborn as sns\n",
    "\n",
    "import matplotlib.pyplot as plt\n",
    "\n",
    "%matplotlib inline"
   ]
  },
  {
   "cell_type": "code",
   "execution_count": 2,
   "metadata": {},
   "outputs": [
    {
     "data": {
      "text/html": [
       "<div>\n",
       "<style scoped>\n",
       "    .dataframe tbody tr th:only-of-type {\n",
       "        vertical-align: middle;\n",
       "    }\n",
       "\n",
       "    .dataframe tbody tr th {\n",
       "        vertical-align: top;\n",
       "    }\n",
       "\n",
       "    .dataframe thead th {\n",
       "        text-align: right;\n",
       "    }\n",
       "</style>\n",
       "<table border=\"1\" class=\"dataframe\">\n",
       "  <thead>\n",
       "    <tr style=\"text-align: right;\">\n",
       "      <th></th>\n",
       "      <th>isps</th>\n",
       "      <th>technology</th>\n",
       "      <th>test_type</th>\n",
       "      <th>data_speed_mbps</th>\n",
       "      <th>signal_strength</th>\n",
       "      <th>LSA</th>\n",
       "    </tr>\n",
       "  </thead>\n",
       "  <tbody>\n",
       "    <tr>\n",
       "      <th>0</th>\n",
       "      <td>JIO</td>\n",
       "      <td>4G</td>\n",
       "      <td>Upload</td>\n",
       "      <td>7.30</td>\n",
       "      <td>-63.0</td>\n",
       "      <td>Andhra Pradesh</td>\n",
       "    </tr>\n",
       "    <tr>\n",
       "      <th>1</th>\n",
       "      <td>JIO</td>\n",
       "      <td>4G</td>\n",
       "      <td>Upload</td>\n",
       "      <td>7.31</td>\n",
       "      <td>-65.0</td>\n",
       "      <td>Andhra Pradesh</td>\n",
       "    </tr>\n",
       "    <tr>\n",
       "      <th>2</th>\n",
       "      <td>JIO</td>\n",
       "      <td>4G</td>\n",
       "      <td>Upload</td>\n",
       "      <td>6.91</td>\n",
       "      <td>-65.0</td>\n",
       "      <td>Andhra Pradesh</td>\n",
       "    </tr>\n",
       "    <tr>\n",
       "      <th>3</th>\n",
       "      <td>VODAFONE</td>\n",
       "      <td>4G</td>\n",
       "      <td>Download</td>\n",
       "      <td>7.73</td>\n",
       "      <td>-90.0</td>\n",
       "      <td>Maharashtra</td>\n",
       "    </tr>\n",
       "    <tr>\n",
       "      <th>4</th>\n",
       "      <td>VODAFONE</td>\n",
       "      <td>4G</td>\n",
       "      <td>Download</td>\n",
       "      <td>6.92</td>\n",
       "      <td>-90.0</td>\n",
       "      <td>Maharashtra</td>\n",
       "    </tr>\n",
       "  </tbody>\n",
       "</table>\n",
       "</div>"
      ],
      "text/plain": [
       "       isps technology test_type  data_speed_mbps  signal_strength  \\\n",
       "0       JIO         4G    Upload             7.30            -63.0   \n",
       "1       JIO         4G    Upload             7.31            -65.0   \n",
       "2       JIO         4G    Upload             6.91            -65.0   \n",
       "3  VODAFONE         4G  Download             7.73            -90.0   \n",
       "4  VODAFONE         4G  Download             6.92            -90.0   \n",
       "\n",
       "              LSA  \n",
       "0  Andhra Pradesh  \n",
       "1  Andhra Pradesh  \n",
       "2  Andhra Pradesh  \n",
       "3     Maharashtra  \n",
       "4     Maharashtra  "
      ]
     },
     "execution_count": 2,
     "metadata": {},
     "output_type": "execute_result"
    }
   ],
   "source": [
    "df = pd.read_csv(\"clean_speed_data.csv\")\n",
    "df.head()"
   ]
  },
  {
   "cell_type": "code",
   "execution_count": 3,
   "metadata": {},
   "outputs": [
    {
     "name": "stdout",
     "output_type": "stream",
     "text": [
      "<class 'pandas.core.frame.DataFrame'>\n",
      "RangeIndex: 1322972 entries, 0 to 1322971\n",
      "Data columns (total 6 columns):\n",
      "isps               1322972 non-null object\n",
      "technology         1322972 non-null object\n",
      "test_type          1322972 non-null object\n",
      "data_speed_mbps    1322972 non-null float64\n",
      "signal_strength    1322972 non-null float64\n",
      "LSA                1322972 non-null object\n",
      "dtypes: float64(2), object(4)\n",
      "memory usage: 60.6+ MB\n"
     ]
    }
   ],
   "source": [
    "df.info()"
   ]
  },
  {
   "cell_type": "markdown",
   "metadata": {},
   "source": [
    "The `na` values in the dataset were in the form of string 'na'. So there was a need of converting them to `numpy.nan`"
   ]
  },
  {
   "cell_type": "code",
   "execution_count": 4,
   "metadata": {},
   "outputs": [
    {
     "data": {
      "text/html": [
       "<div>\n",
       "<style scoped>\n",
       "    .dataframe tbody tr th:only-of-type {\n",
       "        vertical-align: middle;\n",
       "    }\n",
       "\n",
       "    .dataframe tbody tr th {\n",
       "        vertical-align: top;\n",
       "    }\n",
       "\n",
       "    .dataframe thead th {\n",
       "        text-align: right;\n",
       "    }\n",
       "</style>\n",
       "<table border=\"1\" class=\"dataframe\">\n",
       "  <thead>\n",
       "    <tr style=\"text-align: right;\">\n",
       "      <th></th>\n",
       "      <th></th>\n",
       "      <th>isps</th>\n",
       "      <th>data_speed_mbps</th>\n",
       "      <th>signal_strength</th>\n",
       "      <th>LSA</th>\n",
       "    </tr>\n",
       "    <tr>\n",
       "      <th>test_type</th>\n",
       "      <th>technology</th>\n",
       "      <th></th>\n",
       "      <th></th>\n",
       "      <th></th>\n",
       "      <th></th>\n",
       "    </tr>\n",
       "  </thead>\n",
       "  <tbody>\n",
       "    <tr>\n",
       "      <th rowspan=\"2\" valign=\"top\">Download</th>\n",
       "      <th>3G</th>\n",
       "      <td>67994</td>\n",
       "      <td>67994</td>\n",
       "      <td>67994</td>\n",
       "      <td>67994</td>\n",
       "    </tr>\n",
       "    <tr>\n",
       "      <th>4G</th>\n",
       "      <td>593521</td>\n",
       "      <td>593521</td>\n",
       "      <td>593521</td>\n",
       "      <td>593521</td>\n",
       "    </tr>\n",
       "    <tr>\n",
       "      <th rowspan=\"2\" valign=\"top\">Upload</th>\n",
       "      <th>3G</th>\n",
       "      <td>68894</td>\n",
       "      <td>68894</td>\n",
       "      <td>68894</td>\n",
       "      <td>68894</td>\n",
       "    </tr>\n",
       "    <tr>\n",
       "      <th>4G</th>\n",
       "      <td>592563</td>\n",
       "      <td>592563</td>\n",
       "      <td>592563</td>\n",
       "      <td>592563</td>\n",
       "    </tr>\n",
       "  </tbody>\n",
       "</table>\n",
       "</div>"
      ],
      "text/plain": [
       "                        isps  data_speed_mbps  signal_strength     LSA\n",
       "test_type technology                                                  \n",
       "Download  3G           67994            67994            67994   67994\n",
       "          4G          593521           593521           593521  593521\n",
       "Upload    3G           68894            68894            68894   68894\n",
       "          4G          592563           592563           592563  592563"
      ]
     },
     "execution_count": 4,
     "metadata": {},
     "output_type": "execute_result"
    }
   ],
   "source": [
    "df.groupby(['test_type','technology']).count()"
   ]
  },
  {
   "cell_type": "markdown",
   "metadata": {},
   "source": [
    "## Analysis on the basis of Technology\n",
    "### 3G service"
   ]
  },
  {
   "cell_type": "code",
   "execution_count": null,
   "metadata": {},
   "outputs": [],
   "source": [
    "df_3g = df.query('technology == \"3G\"')\n",
    "df_3g.head()"
   ]
  },
  {
   "cell_type": "markdown",
   "metadata": {},
   "source": [
    "Average 3G download data speed"
   ]
  },
  {
   "cell_type": "code",
   "execution_count": null,
   "metadata": {},
   "outputs": [],
   "source": [
    "df_3g.query('test_type == \"Download\"')['data_speed_mbps'].mean()"
   ]
  },
  {
   "cell_type": "markdown",
   "metadata": {},
   "source": [
    "Average 3G upload data speed"
   ]
  },
  {
   "cell_type": "code",
   "execution_count": null,
   "metadata": {},
   "outputs": [],
   "source": [
    "df_3g.query('test_type == \"Upload\"')['data_speed_mbps'].mean()"
   ]
  },
  {
   "cell_type": "markdown",
   "metadata": {},
   "source": [
    "Average 3G download data speed provided by ISPs that provides 3G services"
   ]
  },
  {
   "cell_type": "code",
   "execution_count": null,
   "metadata": {},
   "outputs": [],
   "source": [
    "df_3gdown = df_3g.query('test_type == \"Download\"').groupby(['isps']).mean()\n",
    "df_3gdown.sort_values(['data_speed_mbps'], ascending = False)"
   ]
  },
  {
   "cell_type": "markdown",
   "metadata": {},
   "source": [
    "Average 3G upload data speed provided by ISPs that provides 3G services"
   ]
  },
  {
   "cell_type": "code",
   "execution_count": null,
   "metadata": {},
   "outputs": [],
   "source": [
    "df_3gup = df_3g.query('test_type == \"Upload\"').groupby(['isps']).mean()\n",
    "df_3gup.sort_values(['data_speed_mbps'], ascending = False)"
   ]
  },
  {
   "cell_type": "code",
   "execution_count": null,
   "metadata": {},
   "outputs": [],
   "source": [
    "df_3gdown = df_3gdown.T\n",
    "df_3gup = df_3gup.T"
   ]
  },
  {
   "cell_type": "code",
   "execution_count": null,
   "metadata": {},
   "outputs": [],
   "source": [
    "mean_speeds_3gd = [(i, df_3gdown[i].iloc[0]) for i in df_3gdown]\n",
    "mean_speeds_3gu = [(i, df_3gup[i].iloc[0]) for i in df_3gup]"
   ]
  },
  {
   "cell_type": "markdown",
   "metadata": {},
   "source": [
    "### Plot of Average 3G Data speed"
   ]
  },
  {
   "cell_type": "code",
   "execution_count": null,
   "metadata": {},
   "outputs": [],
   "source": [
    "plot_list_down = [list(x) for x in zip(*mean_speeds_3gd)]\n",
    "plot_list_up = [list(x) for x in zip(*mean_speeds_3gu)]\n",
    "\n",
    "plt.bar(plot_list_down[0], plot_list_down[1], alpha = 0.8, label = \"Download Speed\")\n",
    "plt.bar(plot_list_up[0], plot_list_up[1], color = 'r', label = \"Upload Speed\")\n",
    "plt.legend()\n",
    "plt.title('3G mean download speed comparison')\n",
    "plt.xlabel('Service Provider')\n",
    "plt.ylabel('Data Speed (in Mbps)')\n",
    "plt.show();"
   ]
  },
  {
   "cell_type": "markdown",
   "metadata": {},
   "source": [
    "### 4G service"
   ]
  },
  {
   "cell_type": "code",
   "execution_count": null,
   "metadata": {},
   "outputs": [],
   "source": [
    "df_4g = df.query('technology == \"4G\"')\n",
    "df_4g.head()"
   ]
  },
  {
   "cell_type": "markdown",
   "metadata": {},
   "source": [
    "Average 4g download data speed"
   ]
  },
  {
   "cell_type": "code",
   "execution_count": null,
   "metadata": {},
   "outputs": [],
   "source": [
    "df_4g.query('test_type == \"Download\"')['data_speed_mbps'].mean()"
   ]
  },
  {
   "cell_type": "markdown",
   "metadata": {},
   "source": [
    "Average 4g upload data speed"
   ]
  },
  {
   "cell_type": "code",
   "execution_count": null,
   "metadata": {},
   "outputs": [],
   "source": [
    "df_4g.query('test_type == \"Upload\"')['data_speed_mbps'].mean()"
   ]
  },
  {
   "cell_type": "markdown",
   "metadata": {},
   "source": [
    "Average 4G download data speed provided by ISPs that provides 4G services"
   ]
  },
  {
   "cell_type": "code",
   "execution_count": null,
   "metadata": {},
   "outputs": [],
   "source": [
    "df_4gdown = df_4g.query('test_type == \"Download\"').groupby(['isps']).mean()\n",
    "df_4gdown.sort_values(['data_speed_mbps'], ascending = False)"
   ]
  },
  {
   "cell_type": "markdown",
   "metadata": {},
   "source": [
    "Avearge 4G upload data speed provided by ISPs that provides 4G services"
   ]
  },
  {
   "cell_type": "code",
   "execution_count": null,
   "metadata": {},
   "outputs": [],
   "source": [
    "df_4gup = df_4g.query('test_type == \"Upload\"').groupby(['isps']).mean()\n",
    "df_4gup.sort_values(['data_speed_mbps'], ascending = False)"
   ]
  },
  {
   "cell_type": "code",
   "execution_count": null,
   "metadata": {},
   "outputs": [],
   "source": [
    "df_4gdown = df_4gdown.T\n",
    "df_4gup = df_4gup.T"
   ]
  },
  {
   "cell_type": "code",
   "execution_count": null,
   "metadata": {},
   "outputs": [],
   "source": [
    "mean_speeds_4gd = [(i, df_4gdown[i].iloc[0]) for i in df_4gdown]\n",
    "mean_speeds_4gu = [(i, df_4gup[i].iloc[0]) for i in df_4gup]"
   ]
  },
  {
   "cell_type": "markdown",
   "metadata": {},
   "source": [
    "### Plot of Average 4G Data speed"
   ]
  },
  {
   "cell_type": "code",
   "execution_count": null,
   "metadata": {},
   "outputs": [],
   "source": [
    "plot_list_down = [list(x) for x in zip(*mean_speeds_4gd)]\n",
    "plot_list_up = [list(x) for x in zip(*mean_speeds_4gu)]\n",
    "\n",
    "plt.bar(plot_list_down[0],plot_list_down[1], alpha = 0.8, label = 'Download Speed')\n",
    "plt.bar(plot_list_up[0], plot_list_up[1], color = 'y', alpha = 0.4, label = 'Upload Speed')\n",
    "plt.legend()\n",
    "plt.title('4G mean download speed comparison')\n",
    "plt.xlabel('Service Providers')\n",
    "plt.ylabel('Data Speed (in Mbps)')\n",
    "plt.show();"
   ]
  },
  {
   "cell_type": "markdown",
   "metadata": {},
   "source": [
    "## Analysis on the basis of Circles"
   ]
  },
  {
   "cell_type": "markdown",
   "metadata": {},
   "source": [
    "Circles of the telecom services present."
   ]
  },
  {
   "cell_type": "code",
   "execution_count": null,
   "metadata": {
    "scrolled": false
   },
   "outputs": [],
   "source": [
    "circles= df.LSA.unique()\n",
    "print(circles)"
   ]
  },
  {
   "cell_type": "markdown",
   "metadata": {},
   "source": [
    "Creating a dictionary of all circles with the mean data speed provided by the ISPs of the circle"
   ]
  },
  {
   "cell_type": "code",
   "execution_count": null,
   "metadata": {},
   "outputs": [],
   "source": [
    "LSA_list = {}\n",
    "for i in circles:\n",
    "    query_term = 'LSA == \"' + i + '\"'\n",
    "    LSA_list[i] = df.query(query_term).groupby(['isps'])['data_speed_mbps'].mean()"
   ]
  },
  {
   "cell_type": "markdown",
   "metadata": {},
   "source": [
    "Creating a dictionary for plotting graphs for each circle"
   ]
  },
  {
   "cell_type": "code",
   "execution_count": null,
   "metadata": {},
   "outputs": [],
   "source": [
    "plot_dict = {}\n",
    "for i in LSA_list.keys():\n",
    "    q = LSA_list[i].T\n",
    "    mean_speed = [(q.index[ii], q[ii]) for ii in range(q.shape[0])]\n",
    "    plot_list = [list(x) for x in zip(*mean_speed)]\n",
    "    plot_dict[i] = plot_list"
   ]
  },
  {
   "cell_type": "code",
   "execution_count": null,
   "metadata": {},
   "outputs": [],
   "source": [
    "plot_keys = list(plot_dict.keys())"
   ]
  },
  {
   "cell_type": "markdown",
   "metadata": {},
   "source": [
    "### Plot of Average Data speed in each circle"
   ]
  },
  {
   "cell_type": "code",
   "execution_count": null,
   "metadata": {
    "scrolled": false
   },
   "outputs": [],
   "source": [
    "for i in range(len(plot_keys)):\n",
    "    plt.figure(i)\n",
    "    plt.subplot(211)\n",
    "    plt.bar(plot_dict[plot_keys[i]][0], plot_dict[plot_keys[i]][1])\n",
    "    plt.xlabel('Service Providers')\n",
    "    plt.ylabel('Data Speed(in Mbps)')\n",
    "    plt.title(list(plot_dict.keys())[i]);"
   ]
  },
  {
   "cell_type": "markdown",
   "metadata": {},
   "source": [
    "Analysis based on ISPs and the type of data they provide"
   ]
  },
  {
   "cell_type": "code",
   "execution_count": null,
   "metadata": {},
   "outputs": [],
   "source": [
    "LSA_list = {}\n",
    "for i in circles:\n",
    "    query_term = 'LSA == \"' + i + '\"'\n",
    "    LSA_list[i] = pd.DataFrame(df.query(query_term).groupby(['isps','technology'])['data_speed_mbps'].mean())"
   ]
  },
  {
   "cell_type": "code",
   "execution_count": null,
   "metadata": {},
   "outputs": [],
   "source": [
    "plot_dict_3g = {}\n",
    "plot_dict_4g = {}\n",
    "for i in LSA_list.keys():\n",
    "    q = LSA_list[i].T\n",
    "    mean_speed_3g = []\n",
    "    mean_speed_4g = []\n",
    "    for _ in q:\n",
    "        a = (_[0], q[_[0]][_[1]]['data_speed_mbps'])\n",
    "        if _[1] == '3G':\n",
    "            mean_speed_3g.append(a)\n",
    "        else:\n",
    "            mean_speed_4g.append(a)\n",
    "    plot_list = [list(x) for x in zip(*mean_speed_3g)]\n",
    "    plot_dict_3g[i] = plot_list\n",
    "    plot_list = [list(x) for x in zip(*mean_speed_4g)]\n",
    "    plot_dict_4g[i] = plot_list"
   ]
  },
  {
   "cell_type": "code",
   "execution_count": null,
   "metadata": {},
   "outputs": [],
   "source": [
    "plot_keys = list(plot_dict_3g.keys())"
   ]
  },
  {
   "cell_type": "code",
   "execution_count": null,
   "metadata": {
    "scrolled": false
   },
   "outputs": [],
   "source": [
    "for i in range(len(plot_keys)):\n",
    "    plt.figure(i)\n",
    "    plt.subplot(211)\n",
    "    plt.bar(plot_dict_3g[plot_keys[i]][0], plot_dict_3g[plot_keys[i]][1], label = '3G', color = 'k')\n",
    "    plt.xlabel('Service Providers')\n",
    "    plt.ylabel('Data Speed(in Mbps)')\n",
    "    plt.legend()\n",
    "    plt.title(list(plot_dict.keys())[i])\n",
    "    plt.subplot(212)\n",
    "    plt.bar(plot_dict_4g[plot_keys[i]][0], plot_dict_4g[plot_keys[i]][1], label = '4G')\n",
    "    plt.xlabel('Service Providers')\n",
    "    plt.ylabel('Data Speed(in Mbps)')\n",
    "    plt.legend();"
   ]
  },
  {
   "cell_type": "markdown",
   "metadata": {},
   "source": [
    "## Analysis of the basis of Service Providers"
   ]
  },
  {
   "cell_type": "code",
   "execution_count": null,
   "metadata": {},
   "outputs": [],
   "source": [
    "ISPs = df.isps.unique()\n",
    "ISPs"
   ]
  },
  {
   "cell_type": "code",
   "execution_count": null,
   "metadata": {
    "scrolled": false
   },
   "outputs": [],
   "source": [
    "ISP_dict = {}\n",
    "for i in ISPs:\n",
    "    print(i)\n",
    "    query_term = 'isps == \"' + i + '\"'\n",
    "    ISP_dict[i] = (df.query(query_term).groupby(['technology', 'LSA']).mean())"
   ]
  },
  {
   "cell_type": "code",
   "execution_count": null,
   "metadata": {},
   "outputs": [],
   "source": [
    "plot_dict_3g = {}\n",
    "plot_dict_4g = {}\n",
    "for i in ISP_dict:\n",
    "    q = ISP_dict[i].T\n",
    "    mean_speed_3g = []\n",
    "    mean_speed_4g = []\n",
    "    for _ in q:\n",
    "        a = (_[1], q[_[0]][_[1]]['data_speed_mbps'])\n",
    "        if _[0] == '3G':\n",
    "            mean_speed_3g.append(a)\n",
    "        elif _[0] == '4G':\n",
    "            mean_speed_4g.append(a)\n",
    "    plot_list = [list(x) for x in zip(*mean_speed_3g)]\n",
    "    plot_dict_3g[i] = plot_list\n",
    "    plot_list = [list(x) for x in zip(*mean_speed_4g)]\n",
    "    plot_dict_4g[i] = plot_list"
   ]
  },
  {
   "cell_type": "code",
   "execution_count": null,
   "metadata": {},
   "outputs": [],
   "source": [
    "plot_keys = list(plot_dict_3g.keys())"
   ]
  },
  {
   "cell_type": "code",
   "execution_count": null,
   "metadata": {
    "scrolled": false
   },
   "outputs": [],
   "source": [
    "for i in range(len(plot_keys)):\n",
    "    flag = False\n",
    "    plt.figure(i)\n",
    "    #plt.title(list(plot_dict_3g.keys())[i])\n",
    "    if len(plot_dict_3g[plot_keys[i]]) != 0:\n",
    "        plt.subplot(211)\n",
    "        plt.title(list(plot_dict_3g.keys())[i])\n",
    "        flag = True\n",
    "        plt.bar(plot_dict_3g[plot_keys[i]][0], plot_dict_3g[plot_keys[i]][1], label = '3G', color = 'k')\n",
    "        plt.xlabel('Circles')\n",
    "        plt.xticks(np.arange(len(plot_dict_3g[plot_keys[i]][0])), plot_dict_3g[plot_keys[i]][0],rotation = 70)\n",
    "        plt.ylabel('Data Speed(in Mbps)')\n",
    "        plt.legend()\n",
    "    if len(plot_dict_4g[plot_keys[i]]) != 0:\n",
    "        plt.subplot(212)\n",
    "        if not flag:\n",
    "            plt.title(list(plot_dict_3g.keys())[i])\n",
    "        plt.bar(plot_dict_4g[plot_keys[i]][0], plot_dict_4g[plot_keys[i]][1], label = '4G')\n",
    "        plt.xlabel('Circles')\n",
    "        plt.xticks(rotation = 70)\n",
    "        plt.ylabel('Data Speed(in Mbps)')\n",
    "        plt.legend();\n",
    "    plt.subplots_adjust(hspace = 1.5)"
   ]
  },
  {
   "cell_type": "code",
   "execution_count": null,
   "metadata": {},
   "outputs": [],
   "source": [
    "df.isps = df.isps.astype('category')\n",
    "df.technology = df.technology.astype('category')\n",
    "df.test_type = df.test_type.astype('category')\n",
    "df.LSA = df.LSA.astype('category')"
   ]
  },
  {
   "cell_type": "markdown",
   "metadata": {},
   "source": [
    "### Missing Value Analysis"
   ]
  },
  {
   "cell_type": "code",
   "execution_count": null,
   "metadata": {},
   "outputs": [],
   "source": [
    "df.info()"
   ]
  },
  {
   "cell_type": "markdown",
   "metadata": {},
   "source": [
    "No missing values found"
   ]
  },
  {
   "cell_type": "markdown",
   "metadata": {},
   "source": [
    "### Outlier Analysis"
   ]
  },
  {
   "cell_type": "code",
   "execution_count": null,
   "metadata": {},
   "outputs": [],
   "source": [
    "numerical = [i for i in df if df[i].dtype == 'float64']\n",
    "categorical = [i for i in df if df[i].dtype != 'float64']\n",
    "numerical = numerical[1:2]"
   ]
  },
  {
   "cell_type": "code",
   "execution_count": null,
   "metadata": {},
   "outputs": [],
   "source": [
    "def outlier_analysis():\n",
    "    for i in numerical:\n",
    "        maxm, minm = box_analysis(i)\n",
    "        neutralize_outlier(maxm, minm, i)"
   ]
  },
  {
   "cell_type": "code",
   "execution_count": null,
   "metadata": {},
   "outputs": [],
   "source": [
    "def box_analysis(i):\n",
    "    plt.figure()\n",
    "    print(i)\n",
    "    sns.boxplot(df[i])\n",
    "    plt.show()\n",
    "    \n",
    "    q1, q3 = np.percentile(df[i], [25, 75])\n",
    "    iqr = q3 - q1\n",
    "    maxm, minm = q3 + (1.5 * iqr), q1 - (1.5 * iqr)\n",
    "    return (maxm, minm)"
   ]
  },
  {
   "cell_type": "code",
   "execution_count": null,
   "metadata": {},
   "outputs": [],
   "source": [
    "def neutralize_outlier(maxm, minm, x):\n",
    "    max_in = df[df[x] > maxm].index\n",
    "    min_in = df[df[x] < minm].index\n",
    "    \n",
    "    print(\"\\tOutliers above maximum : \", len(max_in))\n",
    "    print(\"\\tOutliers belox minimum : \", len(min_in), \"\\n\\n\")\n",
    "    \n",
    "    col_type = df[x].dtype\n",
    "    \n",
    "    if len(max_in) > 0:\n",
    "        for i in max_in:\n",
    "            df[x].iloc[i] = maxm\n",
    "            \n",
    "    if len(min_in) < 0:\n",
    "        for i in min_in:\n",
    "            df[x].iloc[i] = minm\n",
    "            \n",
    "    return col_type"
   ]
  },
  {
   "cell_type": "code",
   "execution_count": null,
   "metadata": {},
   "outputs": [],
   "source": [
    "outlier_analysis()"
   ]
  },
  {
   "cell_type": "markdown",
   "metadata": {},
   "source": [
    "### Feature Selection"
   ]
  },
  {
   "cell_type": "code",
   "execution_count": null,
   "metadata": {},
   "outputs": [],
   "source": [
    "from statsmodels.stats.outliers_influence import variance_inflation_factor"
   ]
  },
  {
   "cell_type": "code",
   "execution_count": null,
   "metadata": {},
   "outputs": [],
   "source": [
    "from patsy import dmatrices"
   ]
  },
  {
   "cell_type": "code",
   "execution_count": null,
   "metadata": {},
   "outputs": [],
   "source": [
    "y = df.data_speed_mbps\n",
    "X = df[['isps', 'technology', 'test_type', 'signal_strength', 'LSA']]"
   ]
  },
  {
   "cell_type": "code",
   "execution_count": null,
   "metadata": {},
   "outputs": [],
   "source": []
  }
 ],
 "metadata": {
  "kernelspec": {
   "display_name": "Python 3",
   "language": "python",
   "name": "python3"
  },
  "language_info": {
   "codemirror_mode": {
    "name": "ipython",
    "version": 3
   },
   "file_extension": ".py",
   "mimetype": "text/x-python",
   "name": "python",
   "nbconvert_exporter": "python",
   "pygments_lexer": "ipython3",
   "version": "3.5.2"
  },
  "widgets": {
   "application/vnd.jupyter.widget-state+json": {
    "state": {},
    "version_major": 2,
    "version_minor": 0
   }
  }
 },
 "nbformat": 4,
 "nbformat_minor": 2
}
